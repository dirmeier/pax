{
 "cells": [
  {
   "cell_type": "code",
   "execution_count": 2,
   "id": "484df4fd-819a-4279-93ce-a87c2d62957b",
   "metadata": {
    "tags": [],
    "pycharm": {
     "name": "#%%\n"
    }
   },
   "outputs": [],
   "source": [
    "from flax import linen as nn\n",
    "import haiku as hk\n",
    "from jax import numpy as jnp, random as jr"
   ]
  },
  {
   "cell_type": "code",
   "execution_count": 7,
   "id": "ad9dd392-bd71-41e8-bee5-875377c139a9",
   "metadata": {
    "tags": [],
    "pycharm": {
     "name": "#%%\n"
    }
   },
   "outputs": [],
   "source": [
    "x = jr.normal(jr.PRNGKey(1), (2, 5, 5))"
   ]
  },
  {
   "cell_type": "code",
   "execution_count": 61,
   "id": "723c7411-dc64-4dcc-8203-6cab3a1ebea4",
   "metadata": {
    "tags": [],
    "pycharm": {
     "name": "#%%\n"
    }
   },
   "outputs": [],
   "source": [
    "def fn(x):\n",
    "    return hk.MultiHeadAttention(\n",
    "        4,\n",
    "        key_size=32,\n",
    " #       value_size=32,\n",
    "#        model_size=10,\n",
    "        w_init_scale=1.0\n",
    "    )(x, x, x)\n",
    "f = hk.without_apply_rng(hk.transform(fn))"
   ]
  },
  {
   "cell_type": "code",
   "execution_count": 62,
   "id": "96dd8262-968e-4edf-8bb1-1cbebc95d563",
   "metadata": {
    "tags": [],
    "pycharm": {
     "name": "#%%\n"
    }
   },
   "outputs": [
    {
     "data": {
      "text/plain": [
       "(2, 5, 128)"
      ]
     },
     "execution_count": 62,
     "metadata": {},
     "output_type": "execute_result"
    }
   ],
   "source": [
    "params = f.init(jr.PRNGKey(1), x)\n",
    "f.apply(params, x).shape"
   ]
  },
  {
   "cell_type": "code",
   "execution_count": null,
   "id": "7c42d563-c356-4e73-9e79-e20af45fbd56",
   "metadata": {
    "pycharm": {
     "name": "#%%\n"
    }
   },
   "outputs": [],
   "source": []
  },
  {
   "cell_type": "code",
   "execution_count": 80,
   "id": "c8b9494c-6e0b-4220-874e-428ec64ec9bc",
   "metadata": {
    "tags": [],
    "pycharm": {
     "name": "#%%\n"
    }
   },
   "outputs": [],
   "source": [
    "f = nn.MultiHeadDotProductAttention(\n",
    "    num_heads=8,\n",
    "    qkv_features=32,\n",
    "    out_features=32\n",
    ")"
   ]
  },
  {
   "cell_type": "code",
   "execution_count": 81,
   "id": "c4085171-e988-458d-93a8-c232fe92aa4e",
   "metadata": {
    "tags": [],
    "pycharm": {
     "name": "#%%\n"
    }
   },
   "outputs": [
    {
     "data": {
      "text/plain": [
       "(2, 5, 32)"
      ]
     },
     "execution_count": 81,
     "metadata": {},
     "output_type": "execute_result"
    }
   ],
   "source": [
    "params = f.init(jr.PRNGKey(1), inputs_q=x, inputs_kv=x)\n",
    "f.apply(params, inputs_q=x, inputs_kv=x).shape"
   ]
  },
  {
   "cell_type": "code",
   "execution_count": null,
   "id": "9c9a2fe5-94a3-4edd-ae37-06da38c03f5a",
   "metadata": {
    "pycharm": {
     "name": "#%%\n"
    }
   },
   "outputs": [],
   "source": []
  }
 ],
 "metadata": {
  "kernelspec": {
   "display_name": "ramsey-dev",
   "language": "python",
   "name": "ramsey-dev"
  },
  "language_info": {
   "codemirror_mode": {
    "name": "ipython",
    "version": 3
   },
   "file_extension": ".py",
   "mimetype": "text/x-python",
   "name": "python",
   "nbconvert_exporter": "python",
   "pygments_lexer": "ipython3",
   "version": "3.9.13"
  }
 },
 "nbformat": 4,
 "nbformat_minor": 5
}