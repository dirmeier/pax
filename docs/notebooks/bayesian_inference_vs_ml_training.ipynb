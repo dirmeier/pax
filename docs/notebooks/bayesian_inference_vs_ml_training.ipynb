{
 "cells": [
  {
   "cell_type": "code",
   "execution_count": 61,
   "id": "919f42fb-73d5-4e72-80e8-c796270cb305",
   "metadata": {
    "pycharm": {
     "name": "#%%\n"
    },
    "tags": []
   },
   "outputs": [],
   "source": [
    "%matplotlib inline\n",
    "import matplotlib.pyplot as plt\n",
    "import palettes\n",
    "import numpyro\n",
    "\n",
    "from jax import numpy as jnp\n",
    "from jax import random as jr\n",
    "from numpyro import distributions as dist\n",
    "from numpyro.infer import Predictive, NUTS, MCMC, SVI, autoguide, Trace_ELBO\n",
    "from numpyro.distributions import constraints\n",
    "from ramsey.data import sample_from_sine_function\n",
    "from ramsey.experimental import ARMA, Autoregressive\n",
    "\n",
    "palettes.set_theme()"
   ]
  },
  {
   "cell_type": "code",
   "execution_count": 62,
   "id": "653c05a9-3ff7-483d-8a01-bdd2996f28b4",
   "metadata": {
    "tags": []
   },
   "outputs": [],
   "source": [
    "numpyro.set_host_device_count(4)"
   ]
  },
  {
   "cell_type": "code",
   "execution_count": null,
   "id": "7b2be723-7946-48d7-88c7-3389a03e3297",
   "metadata": {},
   "outputs": [],
   "source": [
    "## Bayesian inference with NumPyro"
   ]
  },
  {
   "cell_type": "code",
   "execution_count": 2,
   "id": "bd7a753a-4f12-4867-aa43-ef3694bd5e88",
   "metadata": {
    "pycharm": {
     "name": "#%%\n"
    },
    "tags": []
   },
   "outputs": [],
   "source": [
    "def model(y=None):\n",
    "    loc = numpyro.sample(\"loc\", dist.Normal(0.0, 1.0))\n",
    "    scale = numpyro.sample(\"scale\", dist.HalfNormal(1.0))\n",
    "    ar_coefficients = numpyro.sample(\n",
    "        \"ar_coefficients\", dist.Normal(jnp.zeros(3), 1.0)\n",
    "    )\n",
    "    numpyro.sample(\n",
    "        \"y\", Autoregressive(loc, ar_coefficients, scale, length=10), obs=y\n",
    "    )"
   ]
  },
  {
   "cell_type": "code",
   "execution_count": 3,
   "id": "0117781c-bf1a-4b32-b791-885ba53481f0",
   "metadata": {
    "pycharm": {
     "name": "#%%\n"
    },
    "tags": []
   },
   "outputs": [
    {
     "data": {
      "text/plain": [
       "{'ar_coefficients': Array([[-0.69692624,  1.3743659 , -0.31461632]], dtype=float32),\n",
       " 'loc': Array([-0.05887505], dtype=float32),\n",
       " 'scale': Array([1.0093267], dtype=float32),\n",
       " 'y': Array([[  0.791172  ,  -0.16440308,   0.84213233,  -0.60780644,\n",
       "           0.9093818 ,  -3.276204  ,   3.1482418 ,  -6.157694  ,\n",
       "           9.625948  , -17.264713  ]], dtype=float32)}"
      ]
     },
     "execution_count": 3,
     "metadata": {},
     "output_type": "execute_result"
    }
   ],
   "source": [
    "D = Predictive(model, num_samples=1)(rng_key=jr.PRNGKey(3))\n",
    "D"
   ]
  },
  {
   "cell_type": "code",
   "execution_count": 4,
   "id": "678294d2-9d3f-496f-90b7-9f37c4795056",
   "metadata": {
    "pycharm": {
     "name": "#%%\n"
    },
    "tags": []
   },
   "outputs": [
    {
     "name": "stderr",
     "output_type": "stream",
     "text": [
      "/var/folders/w8/7mc8k9m916qgh982xqxfgsr00000gn/T/ipykernel_16620/2137634267.py:1: UserWarning: There are not enough devices to run parallel chains: expected 4 but got 1. Chains will be drawn sequentially. If you are running MCMC in CPU, consider using `numpyro.set_host_device_count(4)` at the beginning of your program. You can double-check how many devices are available in your system using `jax.local_device_count()`.\n",
      "  mcmc = MCMC(NUTS(model), num_warmup=1000, num_samples=2000, num_chains=4)\n",
      "sample: 100%|███████████████████████████████████████████████████████████████████████████████████████████████████████| 3000/3000 [00:01<00:00, 2640.73it/s, 15 steps of size 1.74e-01. acc. prob=0.90]\n",
      "sample: 100%|██████████████████████████████████████████████████████████████████████████████████████████████████████| 3000/3000 [00:00<00:00, 10705.34it/s, 31 steps of size 1.58e-01. acc. prob=0.92]\n",
      "sample: 100%|██████████████████████████████████████████████████████████████████████████████████████████████████████| 3000/3000 [00:00<00:00, 10503.90it/s, 31 steps of size 1.56e-01. acc. prob=0.93]\n",
      "sample: 100%|██████████████████████████████████████████████████████████████████████████████████████████████████████| 3000/3000 [00:00<00:00, 10549.45it/s, 15 steps of size 1.66e-01. acc. prob=0.90]\n"
     ]
    }
   ],
   "source": [
    "mcmc = MCMC(NUTS(model), num_warmup=1000, num_samples=2000, num_chains=4)\n",
    "mcmc.run(jr.PRNGKey(1), y=D[\"y\"].flatten())"
   ]
  },
  {
   "cell_type": "code",
   "execution_count": 7,
   "id": "1b65d1c2-c23f-409e-abf6-ebcf961dc098",
   "metadata": {
    "pycharm": {
     "name": "#%%\n"
    },
    "tags": []
   },
   "outputs": [
    {
     "name": "stdout",
     "output_type": "stream",
     "text": [
      "\n",
      "                        mean       std    median      5.0%     95.0%     n_eff     r_hat\n",
      "ar_coefficients[0]     -0.79      0.34     -0.79     -1.34     -0.24   3765.03      1.00\n",
      "ar_coefficients[1]      1.13      0.42      1.14      0.43      1.80   4097.92      1.00\n",
      "ar_coefficients[2]     -0.53      0.53     -0.54     -1.40      0.32   4913.12      1.00\n",
      "               loc     -0.19      0.31     -0.20     -0.69      0.31   4951.99      1.00\n",
      "             scale      0.99      0.27      0.95      0.57      1.37   3056.92      1.00\n",
      "\n",
      "Number of divergences: 0\n"
     ]
    }
   ],
   "source": [
    "mcmc.print_summary()"
   ]
  },
  {
   "cell_type": "markdown",
   "id": "5e5beffd-0525-4c39-8d9e-75df4f0d31c0",
   "metadata": {},
   "source": [
    "## Maximum likelihood inference with NumPyro"
   ]
  },
  {
   "cell_type": "code",
   "execution_count": 45,
   "id": "28c90c47-a610-467e-a982-cce1161b7ff5",
   "metadata": {
    "tags": []
   },
   "outputs": [
    {
     "data": {
      "text/plain": [
       "{'ar_coefficients': Array([[-0.69692624,  1.3743659 , -0.31461632]], dtype=float32),\n",
       " 'loc': Array([-0.05887505], dtype=float32),\n",
       " 'scale': Array([1.0093267], dtype=float32),\n",
       " 'y': Array([[  0.791172  ,  -0.16440308,   0.84213233,  -0.60780644,\n",
       "           0.9093818 ,  -3.276204  ,   3.1482418 ,  -6.157694  ,\n",
       "           9.625948  , -17.264713  ]], dtype=float32)}"
      ]
     },
     "execution_count": 45,
     "metadata": {},
     "output_type": "execute_result"
    }
   ],
   "source": [
    "D"
   ]
  },
  {
   "cell_type": "code",
   "execution_count": 15,
   "id": "da5b1a4e-36a3-45bf-ad9c-91a43a37eb7d",
   "metadata": {
    "tags": []
   },
   "outputs": [],
   "source": [
    "def model(y=None):\n",
    "    loc = numpyro.param(\"loc\", 0.0)\n",
    "    scale = numpyro.param(\"scale\", 1.0, constraints=constraints.positive)\n",
    "    ar_coefficients = numpyro.param(\n",
    "        \"ar_coefficients\", jnp.array([-1.0, 0.0, 1.0])\n",
    "    )\n",
    "    numpyro.sample(\n",
    "        \"y\", Autoregressive(loc, ar_coefficients, scale, length=10), obs=y\n",
    "    )"
   ]
  },
  {
   "cell_type": "code",
   "execution_count": 30,
   "id": "8a371895-6ed4-4a30-b279-4b87d739a5f7",
   "metadata": {
    "tags": []
   },
   "outputs": [],
   "source": [
    "def guide(y=None):\n",
    "    pass"
   ]
  },
  {
   "cell_type": "code",
   "execution_count": 43,
   "id": "ec12f4cc-d6dc-455d-857c-61e7f7ce02cf",
   "metadata": {
    "tags": []
   },
   "outputs": [
    {
     "name": "stderr",
     "output_type": "stream",
     "text": [
      "100%|██████████████████████████████████████████████████████████████████████████████████████████████████████| 1000/1000 [00:00<00:00, 6641.08it/s, init loss: 104.0581, avg. loss [951-1000]: 11.3399]\n"
     ]
    }
   ],
   "source": [
    "svi = SVI(model, guide, optim=Adam(0.01), loss=Trace_ELBO())\n",
    "svi_res = svi.run(jr.PRNGKey(1), y=D[\"y\"].flatten(), num_steps=1000)"
   ]
  },
  {
   "cell_type": "code",
   "execution_count": 44,
   "id": "e53ff53e-3fd0-4bab-8b9d-129eb1863bc8",
   "metadata": {
    "tags": []
   },
   "outputs": [
    {
     "data": {
      "text/plain": [
       "{'ar_coefficients': Array([-0.8599633 ,  1.103057  , -0.41942602], dtype=float32),\n",
       " 'loc': Array(-0.20917863, dtype=float32),\n",
       " 'scale': Array(0.75362915, dtype=float32)}"
      ]
     },
     "execution_count": 44,
     "metadata": {},
     "output_type": "execute_result"
    }
   ],
   "source": [
    "svi_res.params"
   ]
  },
  {
   "cell_type": "code",
   "execution_count": 53,
   "id": "1a23b86f-49ed-4cfc-8536-b29eb2ef38c3",
   "metadata": {
    "tags": []
   },
   "outputs": [],
   "source": [
    "## MAP with NumPyro"
   ]
  },
  {
   "cell_type": "code",
   "execution_count": 57,
   "id": "7748bec1-6d94-4fab-854a-3bc6c1af84f3",
   "metadata": {
    "tags": []
   },
   "outputs": [],
   "source": [
    "def model(y=None):\n",
    "    loc = numpyro.sample(\"loc\", dist.Normal(0.0, 1.0))\n",
    "    scale = numpyro.sample(\"scale\", dist.HalfNormal(1.0))\n",
    "    ar_coefficients = numpyro.sample(\n",
    "        \"ar_coefficients\", dist.Normal(jnp.zeros(3), 1.0)\n",
    "    )\n",
    "    numpyro.sample(\n",
    "        \"y\", Autoregressive(loc, ar_coefficients, scale, length=10), obs=y\n",
    "    )"
   ]
  },
  {
   "cell_type": "code",
   "execution_count": 58,
   "id": "756fb115-3cfd-436c-bc18-b6bae4e5bf46",
   "metadata": {
    "tags": []
   },
   "outputs": [],
   "source": [
    "guide = autoguide.AutoDelta(model)"
   ]
  },
  {
   "cell_type": "code",
   "execution_count": 59,
   "id": "b93bb991-f356-493f-af36-9b30dd88b474",
   "metadata": {
    "tags": []
   },
   "outputs": [
    {
     "name": "stderr",
     "output_type": "stream",
     "text": [
      "100%|█████████████████████████████████████████████████████████████████████████████████████████████████████| 1000/1000 [00:00<00:00, 6383.21it/s, init loss: 1647.7804, avg. loss [951-1000]: 17.6015]\n"
     ]
    }
   ],
   "source": [
    "svi = SVI(model, guide, optim=Adam(0.01), loss=Trace_ELBO())\n",
    "svi_res = svi.run(jr.PRNGKey(1), y=D[\"y\"].flatten(), num_steps=1000)"
   ]
  },
  {
   "cell_type": "code",
   "execution_count": 60,
   "id": "6ef32763-b78f-4a1c-a1bd-a2133055ca6c",
   "metadata": {
    "tags": []
   },
   "outputs": [
    {
     "data": {
      "text/plain": [
       "{'ar_coefficients_auto_loc': Array([-1.0999439,  0.7032318, -0.4249696], dtype=float32),\n",
       " 'loc_auto_loc': Array(-0.25446877, dtype=float32),\n",
       " 'scale_auto_loc': Array(0.7408141, dtype=float32)}"
      ]
     },
     "execution_count": 60,
     "metadata": {},
     "output_type": "execute_result"
    }
   ],
   "source": [
    "svi_res.params"
   ]
  },
  {
   "cell_type": "markdown",
   "id": "d3771f69-b382-4e42-bdfe-c09b3b1b2933",
   "metadata": {},
   "source": [
    "## Maximum likelihood inference in Flax"
   ]
  },
  {
   "cell_type": "code",
   "execution_count": 128,
   "id": "f150e89c-4d52-4b9e-aa6f-10371421a1dd",
   "metadata": {
    "tags": []
   },
   "outputs": [],
   "source": [
    "from flax import linen as nn\n",
    "import optax\n",
    "import jax\n",
    "from flax.linen import initializers\n",
    "import numpy as np\n",
    "from flax.training.train_state import TrainState"
   ]
  },
  {
   "cell_type": "code",
   "execution_count": 113,
   "id": "de31a7ff-10a7-416e-bd4b-dd3e2140b411",
   "metadata": {
    "tags": []
   },
   "outputs": [],
   "source": [
    "y = D[\"y\"]\n",
    "y = y.flatten()"
   ]
  },
  {
   "cell_type": "code",
   "execution_count": 107,
   "id": "9c6aac90-7418-4b2b-9c85-9863194cccfd",
   "metadata": {
    "tags": []
   },
   "outputs": [],
   "source": [
    "class ARModel(nn.Module):\n",
    "    order: int\n",
    "\n",
    "    def setup(self):\n",
    "        self.loc = self.param(\n",
    "            \"loc\", initializers.glorot_normal(), (1, 1), jnp.float32\n",
    "        )\n",
    "        self.log_scale = self.param(\n",
    "            \"log_scale\", initializers.glorot_normal(), (1, 1), jnp.float32\n",
    "        )\n",
    "        self.ar_coefficients = self.param(\n",
    "            \"ar_coefficients\",\n",
    "            initializers.glorot_normal(),\n",
    "            (self.order, 1),\n",
    "            jnp.float32,\n",
    "        )\n",
    "\n",
    "    def __call__(self, inputs):\n",
    "        return self.log_prob(inputs)\n",
    "\n",
    "    def _get_distr(self):\n",
    "        ar = Autoregressive(\n",
    "            self.loc.flatten(),\n",
    "            self.ar_coefficients.flatten(),\n",
    "            jnp.exp(self.log_scale.flatten()),\n",
    "        )\n",
    "        return ar\n",
    "\n",
    "    def log_prob(self, inputs):\n",
    "        ar = self._get_distr()\n",
    "        return ar.log_prob(inputs)\n",
    "\n",
    "    def sample(self, initial_state, length, shape=()):\n",
    "        ar = self._get_distr()\n",
    "        return ar.sample(self.make_rng(\"sample\"), length, initial_state, shape)"
   ]
  },
  {
   "cell_type": "code",
   "execution_count": 131,
   "id": "6bf716d7-6de0-487f-bbf0-743958bb9890",
   "metadata": {
    "tags": []
   },
   "outputs": [],
   "source": [
    "def create_train_state(rng, model, optimizer, **init_data):\n",
    "    init_key, sample_key = jr.split(rng)\n",
    "    params = model.init({\"sample\": sample_key, \"params\": init_key}, **init_data)\n",
    "    state = TrainState.create(apply_fn=model.apply, params=params, tx=optimizer)\n",
    "    return state"
   ]
  },
  {
   "cell_type": "code",
   "execution_count": null,
   "outputs": [],
   "source": [
    "def train(seed, y, state, n_iter=1000):\n",
    "    objectives = np.zeros(n_iter)\n",
    "    for i in range(n_iter):\n",
    "\n",
    "        def step(rngs, state, **batch):\n",
    "            current_step = state.step\n",
    "            rngs = {\n",
    "                name: jr.fold_in(rng, current_step)\n",
    "                for name, rng in rngs.items()\n",
    "            }\n",
    "\n",
    "            def obj_fn(params):\n",
    "                obj = state.apply_fn(variables=params, rngs=rngs, **batch)\n",
    "                return -jnp.sum(obj)\n",
    "\n",
    "            obj, grads = jax.value_and_grad(obj_fn)(state.params)\n",
    "            new_state = state.apply_gradients(grads=grads)\n",
    "            return new_state, obj\n",
    "\n",
    "        sample_rng_key, seed = jr.split(seed)\n",
    "        state, obj = step({\"sample\": sample_rng_key}, state, inputs=y)\n",
    "        objectives[i] = obj\n",
    "    return state.params, objectives\n",
    "\n",
    "\n",
    "state = create_train_state(\n",
    "    jr.PRNGKey(123), ARModel(3), optax.adam(0.01), inputs=y\n",
    ")\n",
    "params, objectives = train(jr.PRNGKey(2), y, state, 2000)\n",
    "params"
   ],
   "metadata": {
    "collapsed": false,
    "pycharm": {
     "name": "#%%\n"
    }
   }
  },
  {
   "cell_type": "code",
   "execution_count": null,
   "outputs": [],
   "source": [
    "D"
   ],
   "metadata": {
    "collapsed": false,
    "pycharm": {
     "name": "#%%\n"
    }
   }
  }
 ],
 "metadata": {
  "kernelspec": {
   "display_name": "ramsey-dev",
   "language": "python",
   "name": "ramsey-dev"
  },
  "language_info": {
   "codemirror_mode": {
    "name": "ipython",
    "version": 3
   },
   "file_extension": ".py",
   "mimetype": "text/x-python",
   "name": "python",
   "nbconvert_exporter": "python",
   "pygments_lexer": "ipython3",
   "version": "3.9.13"
  }
 },
 "nbformat": 4,
 "nbformat_minor": 5
}
